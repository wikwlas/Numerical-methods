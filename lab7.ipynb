{
 "cells": [
  {
   "cell_type": "code",
   "execution_count": 51,
   "id": "chemical-american",
   "metadata": {},
   "outputs": [],
   "source": [
    "\"\"\"\n",
    "Authors: Viktoriia Vlasenko\n",
    "\"\"\"\n",
    "import numpy as np\n",
    "import matplotlib.pyplot as plt\n",
    "\n",
    "\n",
    "#CONSTANTS\n",
    "hc = 40 #W(m^2K)\n",
    "P = 0.0157 #m\n",
    "k = 240 #W/(mK)\n",
    "Ac = 1.964*10**(-5) #m^2\n",
    "L = 1 #m\n",
    "Ts = 293 #K\n",
    "T_0 = 473 #K\n",
    "T_L = 293 #K\n",
    "\n",
    "N = 20 #liczba czesci preta"
   ]
  },
  {
   "cell_type": "code",
   "execution_count": 52,
   "id": "developed-regression",
   "metadata": {},
   "outputs": [
    {
     "name": "stdout",
     "output_type": "stream",
     "text": [
      "Beta = 133.2315003394433\n"
     ]
    }
   ],
   "source": [
    "Beta = hc * P / (k * Ac)\n",
    "h = L/N\n",
    "print(f\"Beta = {Beta}\")"
   ]
  },
  {
   "cell_type": "code",
   "execution_count": 53,
   "id": "under-wednesday",
   "metadata": {},
   "outputs": [],
   "source": [
    "M = np.zeros((N-1, N-1))\n",
    "for i in range(N-2):\n",
    "    for j in range(N-2):\n",
    "        if (i == j):\n",
    "            M[i][j] = -(2 + Beta*h**2)\n",
    "            M[i+1][j] = 1\n",
    "            M[i][j+1] = 1\n",
    "M[N-2, N-2] = -(2 + Beta*h**2)\n",
    "T = np.zeros(N-1) \n",
    "T[:] = -Beta*h**2*Ts\n",
    "T[0] = -(Beta*h**2*Ts + T_0)\n",
    "T[N-2] = -(Beta*h**2*Ts + T_L)\n",
    "\n",
    "solution = np.linalg.solve(M, T) "
   ]
  },
  {
   "cell_type": "code",
   "execution_count": 54,
   "id": "ceramic-raising",
   "metadata": {},
   "outputs": [
    {
     "data": {
      "text/plain": [
       "Text(0.5, 1.0, 'Radiator pretowy')"
      ]
     },
     "execution_count": 54,
     "metadata": {},
     "output_type": "execute_result"
    },
    {
     "data": {
      "image/png": "[encoded data removed]",
      "text/plain": [
       "<Figure size 432x288 with 1 Axes>"
      ]
     },
     "metadata": {
      "needs_background": "light"
     },
     "output_type": "display_data"
    }
   ],
   "source": [
    "fig = plt.figure()\n",
    "ax = plt.axes()\n",
    "x = np.linspace(0, L, N+1)\n",
    "\n",
    "y = np.insert(solution, 0, T_0)\n",
    "y = np.append(y, T_L)\n",
    "\n",
    "ax.scatter(x, y)\n",
    "plt.xlabel(\"x [m]\")\n",
    "plt.ylabel(\"T [K]\")\n",
    "plt.title(\"Radiator pretowy\")"
   ]
  },
  {
   "cell_type": "code",
   "execution_count": null,
   "id": "conventional-language",
   "metadata": {},
   "outputs": [],
   "source": []
  }
 ],
 "metadata": {
  "kernelspec": {
   "display_name": "Python 3",
   "language": "python",
   "name": "python3"
  },
  "language_info": {
   "codemirror_mode": {
    "name": "ipython",
    "version": 3
   },
   "file_extension": ".py",
   "mimetype": "text/x-python",
   "name": "python",
   "nbconvert_exporter": "python",
   "pygments_lexer": "ipython3",
   "version": "3.9.2"
  }
 },
 "nbformat": 4,
 "nbformat_minor": 5
}
