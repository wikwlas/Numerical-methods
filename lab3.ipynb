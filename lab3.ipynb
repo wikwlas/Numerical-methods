{
 "cells": [
  {
   "cell_type": "code",
   "execution_count": 58,
   "id": "severe-jason",
   "metadata": {
    "scrolled": true
   },
   "outputs": [
    {
     "name": "stdout",
     "output_type": "stream",
     "text": [
      "[1. 2. 3. 2. 1.]\n",
      "[1. 2. 3. 2. 1.]\n"
     ]
    }
   ],
   "source": [
    "\"\"\"\n",
    "Authors: Viktoriia Vlasenko\n",
    "\"\"\"\n",
    "import numpy as np\n",
    "\n",
    "def Gauss(A, wierszy, columny):\n",
    "    for j in range (0, columny-1):\n",
    "        for i in range (j, wierszy-1):\n",
    "            m = A[i+1,j]/A[j,j]\n",
    "            A[i+1,:] = A[i+1,:] - m*A[j,:]\n",
    "        \n",
    "    sum = 0\n",
    "    b_new = A[:, -1]\n",
    "    x = np.zeros(wierszy)\n",
    "    x[wierszy-1] = b_new[wierszy-1]/A[wierszy-1, wierszy-1]\n",
    "    for i in range(wierszy-1, -1, -1):\n",
    "        #for j in range(i+1, wierszy):\n",
    "            #sum += A[i,j]*x[j]\n",
    "        #x[i] = (b_new[i] - sum)/A[i,i]\n",
    "        #sum = 0\n",
    "        x[i] = (b_new[i] - np.sum(A[i, i+1:wierszy]*x[i+1:wierszy]))/A[i,i]\n",
    "    print(x)\n",
    "\n",
    "AA = np.array([[9., 8, -2, 2, -2],\n",
    "                  [7, -3, -2, 7, 2],\n",
    "                  [2, -2, 2, -7, 6],\n",
    "                  [4, 8, -3, 3, -1],\n",
    "                  [2, 2, -1, 1, 4]])\n",
    "b = np.array([21., 11, -4, 16, 9])\n",
    "\n",
    "print(np.linalg.solve(AA, b))\n",
    "\n",
    "b[:, None]\n",
    "b[:, None].shape\n",
    "Ab = np.append(AA, b[:, None], axis=1)\n",
    "#rozmiar\n",
    "#ilosc wierszy i column\n",
    "nr, nc = Ab.shape\n",
    "Gauss(Ab, nr, nc)\n",
    "\n",
    "\n"
   ]
  },
  {
   "cell_type": "code",
   "execution_count": null,
   "id": "educational-inflation",
   "metadata": {},
   "outputs": [],
   "source": []
  },
  {
   "cell_type": "code",
   "execution_count": null,
   "id": "improved-finish",
   "metadata": {},
   "outputs": [],
   "source": []
  },
  {
   "cell_type": "code",
   "execution_count": null,
   "id": "opening-facing",
   "metadata": {},
   "outputs": [],
   "source": []
  }
 ],
 "metadata": {
  "kernelspec": {
   "display_name": "Python 3",
   "language": "python",
   "name": "python3"
  },
  "language_info": {
   "codemirror_mode": {
    "name": "ipython",
    "version": 3
   },
   "file_extension": ".py",
   "mimetype": "text/x-python",
   "name": "python",
   "nbconvert_exporter": "python",
   "pygments_lexer": "ipython3",
   "version": "3.9.2"
  }
 },
 "nbformat": 4,
 "nbformat_minor": 5
}
