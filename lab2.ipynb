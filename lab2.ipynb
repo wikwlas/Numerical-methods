{
 "cells": [
  {
   "cell_type": "code",
   "execution_count": 1,
   "id": "therapeutic-activation",
   "metadata": {
    "scrolled": true
   },
   "outputs": [
    {
     "name": "stdout",
     "output_type": "stream",
     "text": [
      "1\n",
      "4\n",
      "0.01\n",
      "Miejsce zerowe posrednie 1.75\n",
      "Miejsce zerowe posrednie 1.375\n",
      "Miejsce zerowe posrednie 1.5625\n",
      "Miejsce zerowe posrednie 1.46875\n",
      "Miejsce zerowe posrednie 1.515625\n",
      "Miejsce zerowe posrednie 1.4921875\n",
      "Miejsce zerowe posrednie 1.48046875\n",
      "Miejsce zerowe posrednie 1.486328125\n",
      "Miejsce zerowe posrednie 1.4833984375\n",
      "Rozwiazanie = 1.483, liczba krokow = 9\n"
     ]
    },
    {
     "data": {
      "image/png": "[encoded data removed]",
      "text/plain": [
       "<Figure size 432x288 with 1 Axes>"
      ]
     },
     "metadata": {
      "needs_background": "light"
     },
     "output_type": "display_data"
    }
   ],
   "source": [
    "\"\"\"\n",
    "Authors: Viktoriia Vlasenko\n",
    "\"\"\"\n",
    "import numpy as np\n",
    "import matplotlib.pyplot as plt\n",
    "\n",
    "def func(x):\n",
    "    return 3*x**3 - 4*x**2 - 1\n",
    "\n",
    "a = int(input())\n",
    "b = int(input())\n",
    "epsilon = float(input())\n",
    "x_teor = np.linspace(a, b, 10000)\n",
    "x_prakt = []\n",
    "y_prakt = []\n",
    "liczba = 0\n",
    "x_0 = a + (b-a)/2\n",
    "x_prakt.append(x_0)\n",
    "y_prakt.append(func(x_0))\n",
    "if func(a)*func(b) < 0:\n",
    "    while(abs(func(x_0))>epsilon):\n",
    "        if func(x_0)*func(a) > 0:\n",
    "            a = x_0\n",
    "        elif func(x_0)*func(b) > 0:\n",
    "            b = x_0\n",
    "        x_0 = a + (b-a)/2\n",
    "        x_prakt.append(x_0)\n",
    "        y_prakt.append(func(x_0))\n",
    "        liczba += 1 \n",
    "        print(f\"Miejsce zerowe posrednie {x_0}\")\n",
    "    print(f\"Rozwiazanie = {'%.3f' % x_0}, liczba krokow = {liczba}\")\n",
    "\n",
    "    fig = plt.figure()\n",
    "    ax = plt.axes()\n",
    "    ax.plot(x_teor,func(x_teor))\n",
    "    ax.scatter(x_prakt,y_prakt, color='red')\n",
    "else:\n",
    "    print(\"W tym przedziale nie ma rozwiazan\")\n"
   ]
  },
  {
   "cell_type": "code",
   "execution_count": null,
   "id": "amber-jefferson",
   "metadata": {},
   "outputs": [],
   "source": []
  },
  {
   "cell_type": "code",
   "execution_count": null,
   "id": "injured-monitor",
   "metadata": {},
   "outputs": [],
   "source": []
  },
  {
   "cell_type": "code",
   "execution_count": null,
   "id": "increasing-samoa",
   "metadata": {},
   "outputs": [],
   "source": []
  },
  {
   "cell_type": "code",
   "execution_count": null,
   "id": "private-hearts",
   "metadata": {},
   "outputs": [],
   "source": []
  },
  {
   "cell_type": "code",
   "execution_count": null,
   "id": "unnecessary-greece",
   "metadata": {},
   "outputs": [],
   "source": []
  }
 ],
 "metadata": {
  "kernelspec": {
   "display_name": "Python 3",
   "language": "python",
   "name": "python3"
  },
  "language_info": {
   "codemirror_mode": {
    "name": "ipython",
    "version": 3
   },
   "file_extension": ".py",
   "mimetype": "text/x-python",
   "name": "python",
   "nbconvert_exporter": "python",
   "pygments_lexer": "ipython3",
   "version": "3.9.2"
  }
 },
 "nbformat": 4,
 "nbformat_minor": 5
}
