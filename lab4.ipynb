{
 "cells": [
  {
   "cell_type": "code",
   "execution_count": 5,
   "id": "naval-above",
   "metadata": {},
   "outputs": [
    {
     "name": "stdout",
     "output_type": "stream",
     "text": [
      "Macierz wejściowa\n",
      " [[ 6.  5. -5.]\n",
      " [ 2.  6. -2.]\n",
      " [ 2.  5. -1.]]\n",
      "Najmniejsza wartosc wlasna z metody eig:  0.9999999999999993\n",
      "Wartosci wlasne:  [6. 4. 1.]\n",
      "Najmniejsza wartosc wlasna z metody iteracyjnej:  0.9999999999999999\n",
      "Wektor wlasny z metody eig:  [ 7.07106781e-01 -1.11022302e-16  7.07106781e-01]\n",
      "Wektor wlasny z metody iteracyjnej:  [7.07106781e-01 2.62903129e-17 7.07106781e-01]\n"
     ]
    },
    {
     "data": {
      "image/png": "[encoded data removed]",
      "text/plain": [
       "<Figure size 432x288 with 1 Axes>"
      ]
     },
     "metadata": {
      "needs_background": "light"
     },
     "output_type": "display_data"
    }
   ],
   "source": [
    "\"\"\"\n",
    "Authors: Viktoriia Vlasenko\n",
    "\"\"\"\n",
    "import numpy as np\n",
    "import scipy.linalg\n",
    "import matplotlib.pyplot as plt\n",
    "\n",
    "def norma(x):\n",
    "    return np.sqrt(sum(x**2))\n",
    "\n",
    "\n",
    "A = np.array([ [6., 5, -5],\n",
    "               [2, 6, -2],\n",
    "               [2, 5, -1] ])\n",
    "\n",
    "\n",
    "ncol, nrow = A.shape\n",
    "x = np.random.uniform(-1, 1, ncol)\n",
    "\n",
    "N = 30\n",
    "l = []\n",
    "\n",
    "lam, u = np.linalg.eig(A)\n",
    "P, L, U = scipy.linalg.lu(A)\n",
    "idx = lam.argsort()\n",
    "\n",
    "for i in range(N):\n",
    "    x /= norma(x)\n",
    "    y = np.linalg.solve(L, x) #macierz, wektor wlasny poczatkowy\n",
    "    x = np.linalg.solve(U, y)\n",
    "    l.append(norma(x))\n",
    "\n",
    "fig = plt.figure()\n",
    "ax = plt.axes()\n",
    "ni = np.linspace(0, N, N)\n",
    "ax.scatter(ni, l, color='red')\n",
    "plt.axhline(lam[idx[0]], color =\"green\", linestyle =\":\")\n",
    "\n",
    "print(\"Macierz wejściowa\\n\", A)\n",
    "print(\"Najmniejsza wartosc wlasna z metody eig: \", lam[idx[0]])\n",
    "print(\"Wartosci wlasne: \", lam)\n",
    "print(\"Najmniejsza wartosc wlasna z metody iteracyjnej: \", l[-1])\n",
    "print(\"Wektor wlasny z metody eig: \", u[:, idx[0]])\n",
    "print(\"Wektor wlasny z metody iteracyjnej: \", x)"
   ]
  },
  {
   "cell_type": "code",
   "execution_count": null,
   "id": "directed-founder",
   "metadata": {},
   "outputs": [],
   "source": []
  },
  {
   "cell_type": "code",
   "execution_count": null,
   "id": "rotary-aaron",
   "metadata": {},
   "outputs": [],
   "source": []
  },
  {
   "cell_type": "code",
   "execution_count": null,
   "id": "equal-format",
   "metadata": {},
   "outputs": [],
   "source": []
  }
 ],
 "metadata": {
  "kernelspec": {
   "display_name": "Python 3",
   "language": "python",
   "name": "python3"
  },
  "language_info": {
   "codemirror_mode": {
    "name": "ipython",
    "version": 3
   },
   "file_extension": ".py",
   "mimetype": "text/x-python",
   "name": "python",
   "nbconvert_exporter": "python",
   "pygments_lexer": "ipython3",
   "version": "3.9.2"
  }
 },
 "nbformat": 4,
 "nbformat_minor": 5
}
