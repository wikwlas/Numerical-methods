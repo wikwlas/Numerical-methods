{
 "cells": [
  {
   "cell_type": "code",
   "execution_count": 60,
   "id": "accepted-actress",
   "metadata": {},
   "outputs": [
    {
     "name": "stdout",
     "output_type": "stream",
     "text": [
      "Wspolczynniki wielomianu aproksymujacego:\n",
      "a[0] = 1.0417345998171691e-14\n",
      "a[1] = 3.9999999999999813\n",
      "a[2] = 7.82724854949015e-15\n",
      "a[3] = -9.068192013487969e-16\n"
     ]
    },
    {
     "data": {
      "text/plain": [
       "<matplotlib.legend.Legend at 0x7f5fd1dc8bb0>"
      ]
     },
     "execution_count": 60,
     "metadata": {},
     "output_type": "execute_result"
    },
    {
     "data": {
      "image/png": "[encoded data removed]",
      "text/plain": [
       "<Figure size 432x288 with 1 Axes>"
      ]
     },
     "metadata": {
      "needs_background": "light"
     },
     "output_type": "display_data"
    }
   ],
   "source": [
    "\"\"\"\n",
    "Authors: Viktoriia Vlasenko\n",
    "\"\"\"\n",
    "import numpy as np\n",
    "import matplotlib.pyplot as plt\n",
    "        \n",
    "x = np.array([1, 2, 3, 4, 5])\n",
    "y = np.array([4, 8, 12, 16, 20])\n",
    "\n",
    "m = 3\n",
    "A = np.zeros((m+1, m+1))\n",
    "xsum = np.zeros(2*m+1)\n",
    "b = np.zeros(m+1)\n",
    "\n",
    "for j in range(0, 2*m+1):\n",
    "    xsum[j] = np.sum(x**j)\n",
    "\n",
    "for j in range(0, m+1):\n",
    "    for i in range(0, m+1):\n",
    "        A[i, j] = xsum[i+j]\n",
    "    b[j] = np.sum(x**j*y)  \n",
    "\n",
    "a = np.linalg.solve(A,b)\n",
    "\n",
    "print(\"Wspolczynniki wielomianu aproksymujacego:\")\n",
    "for i in range(len(a)):\n",
    "    print(f\"a[{i}] = {a[i]}\")\n",
    "fig = plt.figure()\n",
    "ax = plt.axes()\n",
    "X = np.arange(0, 6, 0.1)\n",
    "Y = [i ** np.array(range(0, m+1)) for i in X]\n",
    "yrr = Y@a\n",
    "ax.plot(X, yrr, color =\"green\", linestyle =\":\", label='dopasowanie')\n",
    "ax.scatter(x, y, label='dane')\n",
    "ax.set_xlabel('X')\n",
    "ax.set_ylabel('Y')\n",
    "plt.legend()"
   ]
  },
  {
   "cell_type": "code",
   "execution_count": null,
   "id": "nuclear-diabetes",
   "metadata": {},
   "outputs": [],
   "source": []
  }
 ],
 "metadata": {
  "kernelspec": {
   "display_name": "Python 3",
   "language": "python",
   "name": "python3"
  },
  "language_info": {
   "codemirror_mode": {
    "name": "ipython",
    "version": 3
   },
   "file_extension": ".py",
   "mimetype": "text/x-python",
   "name": "python",
   "nbconvert_exporter": "python",
   "pygments_lexer": "ipython3",
   "version": "3.9.2"
  }
 },
 "nbformat": 4,
 "nbformat_minor": 5
}
